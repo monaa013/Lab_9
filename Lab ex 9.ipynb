{
 "cells": [
  {
   "cell_type": "code",
   "execution_count": 1,
   "metadata": {},
   "outputs": [
    {
     "name": "stdout",
     "output_type": "stream",
     "text": [
      "Array Indexing:\n",
      "First element: 1\n",
      "Third element: 3\n",
      "\n",
      "Fancy Indexing:\n",
      "First and third elements: [1 3]\n"
     ]
    }
   ],
   "source": [
    "#q1\n",
    "import numpy as np\n",
    "\n",
    "# Array Indexing\n",
    "arr = np.array([1, 2, 3, 4])\n",
    "print(\"Array Indexing:\")\n",
    "print(\"First element:\", arr[0])\n",
    "print(\"Third element:\", arr[2])\n",
    "\n",
    "# Fancy Indexing\n",
    "print(\"\\nFancy Indexing:\")\n",
    "print(\"First and third elements:\", arr[[0, 2]])"
   ]
  },
  {
   "cell_type": "code",
   "execution_count": 3,
   "metadata": {},
   "outputs": [
    {
     "name": "stdout",
     "output_type": "stream",
     "text": [
      "Original array:\n",
      "[[1 2 3]\n",
      " [4 5 6]\n",
      " [7 8 9]]\n",
      "\n",
      "Sliced array:\n",
      "[5 6]\n",
      "[3 6]\n",
      "[[2 3]\n",
      " [5 6]]\n",
      "[[4 5]\n",
      " [7 8]]\n",
      "[[1 2 3]\n",
      " [4 5 6]\n",
      " [7 8 9]]\n"
     ]
    }
   ],
   "source": [
    "#q2\n",
    "import numpy as np\n",
    "\n",
    "# Create a 2D array\n",
    "arr = np.array([[1, 2, 3], [4, 5, 6], [7, 8, 9]])\n",
    "\n",
    "# Slice the array\n",
    "print(\"Original array:\")\n",
    "print(arr)\n",
    "\n",
    "print(\"\\nSliced array:\")\n",
    "print(arr[1, 1:4])\n",
    "print(arr[0:2, 2])\n",
    "print(arr[0:2, 1:4])\n",
    "print(arr[1:, :2])\n",
    "print(arr[:, :])"
   ]
  },
  {
   "cell_type": "code",
   "execution_count": 5,
   "metadata": {},
   "outputs": [
    {
     "name": "stdout",
     "output_type": "stream",
     "text": [
      "5D Array:\n",
      "[[[[[1 2 3 4]]]]]\n"
     ]
    }
   ],
   "source": [
    "#q3\n",
    "import numpy as np\n",
    "\n",
    "# Create a 5D array\n",
    "arr = np.array([1, 2, 3, 4], ndmin=5)\n",
    "\n",
    "# Print the array and its shape\n",
    "print(\"5D Array:\")\n",
    "print(arr)"
   ]
  },
  {
   "cell_type": "code",
   "execution_count": 6,
   "metadata": {},
   "outputs": [
    {
     "name": "stdout",
     "output_type": "stream",
     "text": [
      "Original array:\n",
      "[1 2 3 4 5 6]\n",
      "\n",
      "Reshaped array:\n",
      "[[1 2 3]\n",
      " [4 5 6]]\n"
     ]
    }
   ],
   "source": [
    "#q4\n",
    "import numpy as np\n",
    "\n",
    "# Create a 1D array\n",
    "arr = np.array([1, 2, 3, 4, 5, 6])\n",
    "\n",
    "# Reshape the array\n",
    "arr_2d = np.reshape(arr, (2, 3))\n",
    "\n",
    "# Print the original and reshaped arrays\n",
    "print(\"Original array:\")\n",
    "print(arr)\n",
    "\n",
    "print(\"\\nReshaped array:\")\n",
    "print(arr_2d)\n"
   ]
  },
  {
   "cell_type": "code",
   "execution_count": 7,
   "metadata": {},
   "outputs": [
    {
     "name": "stdout",
     "output_type": "stream",
     "text": [
      "Stacked array using stack():\n",
      "[[1 2 3]\n",
      " [4 5 6]]\n",
      "\n",
      "Stacked array using hstack():\n",
      "[1 2 3 4 5 6]\n",
      "\n",
      "Stacked array using vstack():\n",
      "[[1 2 3]\n",
      " [4 5 6]]\n",
      "\n",
      "Stacked array using dstack():\n",
      "[[[1 4]\n",
      "  [2 5]\n",
      "  [3 6]]]\n"
     ]
    }
   ],
   "source": [
    "#q5\n",
    "import numpy as np\n",
    "\n",
    "# Create two arrays\n",
    "a = np.array([1, 2, 3])\n",
    "b = np.array([4, 5, 6])\n",
    "\n",
    "# Stack the arrays using stack()\n",
    "print(\"Stacked array using stack():\")\n",
    "print(np.stack((a, b)))\n",
    "\n",
    "# Stack the arrays using hstack()\n",
    "print(\"\\nStacked array using hstack():\")\n",
    "print(np.hstack((a, b)))\n",
    "\n",
    "# Stack the arrays using vstack()\n",
    "print(\"\\nStacked array using vstack():\")\n",
    "print(np.vstack((a, b)))\n",
    "\n",
    "# Stack the arrays using dstack()\n",
    "print(\"\\nStacked array using dstack():\")\n",
    "print(np.dstack((a, b)))\n"
   ]
  },
  {
   "cell_type": "code",
   "execution_count": 8,
   "metadata": {},
   "outputs": [
    {
     "name": "stdout",
     "output_type": "stream",
     "text": [
      "Index where 3 should be inserted: 2\n"
     ]
    }
   ],
   "source": [
    "#q6\n",
    "import numpy as np\n",
    "\n",
    "# Create a sorted array\n",
    "arr = np.array([1, 2, 3, 4, 5])\n",
    "\n",
    "# Find the index where 3 should be inserted\n",
    "index = np.searchsorted(arr, 3)\n",
    "\n",
    "print(\"Index where 3 should be inserted:\", index)\n"
   ]
  },
  {
   "cell_type": "code",
   "execution_count": 11,
   "metadata": {},
   "outputs": [
    {
     "name": "stdout",
     "output_type": "stream",
     "text": [
      "[('Mikky', 7, 34.) ('Dora', 4, 37.)]\n"
     ]
    }
   ],
   "source": [
    "#q7\n",
    "import numpy as np\n",
    "\n",
    "dt = np.dtype([('Pet_Name', 'U10'), ('Pet_Age', 'i4'), ('Pet_Weight', 'f4')])\n",
    "\n",
    "# Create an empty structured array\n",
    "x = np.zeros(2, dtype=dt)\n",
    "\n",
    "# Assign values to the fields\n",
    "x['Pet_Name'] = ['Mikky', 'Dora']\n",
    "x['Pet_Age'] = [7, 4]\n",
    "x['Pet_Weight'] = [34.0,37.0]\n",
    "\n",
    "print(x)"
   ]
  },
  {
   "cell_type": "code",
   "execution_count": 13,
   "metadata": {},
   "outputs": [
    {
     "name": "stdout",
     "output_type": "stream",
     "text": [
      "        Geeks    For  Geek\n",
      "1  Data_Frame  Using  List\n",
      "2          10     20    30\n"
     ]
    }
   ],
   "source": [
    "#q8\n",
    "import pandas as pd\n",
    "\n",
    "# Initialise data to lists.\n",
    "data = [\n",
    "    {'Geeks': 'Data_Frame', 'For': 'Using', 'Geek': 'List'},\n",
    "    {'Geeks':10, 'For': 20, 'Geek': 30}\n",
    "]\n",
    "\n",
    "df = pd.DataFrame.from_records(data,index=['1','2'])\n",
    "print(df)"
   ]
  },
  {
   "cell_type": "code",
   "execution_count": 14,
   "metadata": {},
   "outputs": [
    {
     "name": "stdout",
     "output_type": "stream",
     "text": [
      "    name  age gender\n",
      "0  Mikky    5      M\n",
      "1   Dora    3      F\n",
      "2    Bob    6      M\n",
      "3   Ramu    4      F\n",
      "    name    age  gender\n",
      "0  False  False   False\n",
      "1  False  False   False\n",
      "2  False  False   False\n",
      "3  False  False   False\n",
      "   name   age  gender\n",
      "0  True  True    True\n",
      "1  True  True    True\n",
      "2  True  True    True\n",
      "3  True  True    True\n"
     ]
    },
    {
     "name": "stderr",
     "output_type": "stream",
     "text": [
      "C:\\Users\\monaa\\AppData\\Local\\Temp\\ipykernel_22872\\921321199.py:17: FutureWarning: DataFrame.interpolate with object dtype is deprecated and will raise in a future version. Call obj.infer_objects(copy=False) before interpolating instead.\n",
      "  df = df.interpolate(method='linear')\n"
     ]
    }
   ],
   "source": [
    "#q9\n",
    "import pandas as pd\n",
    "\n",
    "# Create a dictionary of data\n",
    "data = {'name': ['Mikky', 'Dora', 'Bob', 'Ramu'],\n",
    "        'age': [5, 3, 6, 4],\n",
    "        'gender': ['M', 'F', 'M', 'F']}\n",
    "\n",
    "df = pd.DataFrame(data)\n",
    "print(df)\n",
    "print(df.isnull())\n",
    "print(df.notnull())\n",
    "\n",
    "df = df.dropna()\n",
    "df = df.fillna(0)\n",
    "df = df.replace(np.nan, -1)\n",
    "df = df.interpolate(method='linear')"
   ]
  },
  {
   "cell_type": "code",
   "execution_count": 9,
   "metadata": {},
   "outputs": [
    {
     "name": "stdout",
     "output_type": "stream",
     "text": [
      "Created Data Set:\n",
      "         Date     Name Owners_Name  Pet_Age\n",
      "0  2023-09-01    Mikky     Likitha        4\n",
      "1  2023-09-02     Dora      Lahari        5\n",
      "2  2023-09-03      Bob     Kalpana        3\n",
      "3  2023-09-04     Ramu      Smilan        7\n",
      "4  2023-09-05   Sweety       Symen        3\n",
      "5  2023-09-06     Mona    Kavaskar        6\n",
      "6  2023-09-07    Rokky      Vikram        7\n",
      "7  2023-09-08    Tommy       Naren        3\n",
      "8  2023-09-09  Captian     Clement        8\n",
      "9  2023-09-10    Alexa     Gabrial        3\n"
     ]
    }
   ],
   "source": [
    "#q10\n",
    "import pandas as pd\n",
    "import numpy as np\n",
    "\n",
    "# Create a sample DataFrame\n",
    "data = {\n",
    "    'Date': ['2023-09-01', '2023-09-02', '2023-09-03', '2023-09-04', '2023-09-05','2023-09-06', '2023-09-07', '2023-09-08', '2023-09-09', '2023-09-10'],\n",
    "    'Name': ['Mikky', 'Dora', 'Bob', 'Ramu','Sweety','Mona','Rokky','Tommy','Captian','Alexa'],\n",
    "    'Owners_Name': ['Likitha','Lahari','Kalpana','Smilan','Symen','Kavaskar','Vikram','Naren','Clement','Gabrial'],\n",
    "    'Pet_Age': [4,5,3,7,3,6,7,3,8,3]\n",
    "}\n",
    "\n",
    "df = pd.DataFrame(data)\n",
    "\n",
    "# Display the DataFrame with Hierarchical Index\n",
    "print(\"Created Data Set:\")\n",
    "print(df)"
   ]
  }
 ],
 "metadata": {
  "kernelspec": {
   "display_name": "Python 3",
   "language": "python",
   "name": "python3"
  },
  "language_info": {
   "codemirror_mode": {
    "name": "ipython",
    "version": 3
   },
   "file_extension": ".py",
   "mimetype": "text/x-python",
   "name": "python",
   "nbconvert_exporter": "python",
   "pygments_lexer": "ipython3",
   "version": "3.11.5"
  },
  "orig_nbformat": 4
 },
 "nbformat": 4,
 "nbformat_minor": 2
}
